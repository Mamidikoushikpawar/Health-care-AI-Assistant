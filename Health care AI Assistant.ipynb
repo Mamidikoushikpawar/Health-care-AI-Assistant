{
  "nbformat": 4,
  "nbformat_minor": 0,
  "metadata": {
    "colab": {
      "provenance": []
    },
    "kernelspec": {
      "name": "python3",
      "display_name": "Python 3"
    },
    "language_info": {
      "name": "python"
    }
  },
  "cells": [
    {
      "cell_type": "code",
      "source": [
        "import pandas as pd\n",
        "import numpy as np\n",
        "import nltk\n",
        "from nltk.tokenize import word_tokenize\n",
        "from nltk.stem import PorterStemmer\n",
        "from sklearn.model_selection import train_test_split\n",
        "from sklearn.ensemble import RandomForestClassifier, GradientBoostingClassifier\n",
        "from sklearn.tree import DecisionTreeClassifier\n",
        "from sklearn.linear_model import LogisticRegression\n",
        "from sklearn.neighbors import KNeighborsClassifier\n",
        "from sklearn.svm import SVC\n",
        "from sklearn.naive_bayes import MultinomialNB\n",
        "from sklearn.metrics import accuracy_score\n",
        "from sklearn.preprocessing import LabelEncoder\n",
        "import pickle\n",
        "import matplotlib.pyplot as plt\n",
        "import seaborn as sns"
      ],
      "metadata": {
        "id": "Pm4-rKqxDtP3"
      },
      "execution_count": 8,
      "outputs": []
    },
    {
      "cell_type": "code",
      "source": [
        "nltk.download('punkt')"
      ],
      "metadata": {
        "id": "k9D1-MBbbAuC",
        "colab": {
          "base_uri": "https://localhost:8080/"
        },
        "outputId": "0e7e72af-7f9c-4dfe-90aa-d7d859f11410"
      },
      "execution_count": 9,
      "outputs": [
        {
          "output_type": "stream",
          "name": "stderr",
          "text": [
            "[nltk_data] Downloading package punkt to /root/nltk_data...\n",
            "[nltk_data]   Package punkt is already up-to-date!\n"
          ]
        },
        {
          "output_type": "execute_result",
          "data": {
            "text/plain": [
              "True"
            ]
          },
          "metadata": {},
          "execution_count": 9
        }
      ]
    },
    {
      "cell_type": "markdown",
      "source": [
        "**# Load datasets**"
      ],
      "metadata": {
        "id": "bCKRcIX9h-Hv"
      }
    },
    {
      "cell_type": "code",
      "source": [
        "\n",
        "description = pd.read_csv(\"/content/description.csv\")\n",
        "diets = pd.read_csv(\"/content/diets.csv\")\n",
        "medications = pd.read_csv(\"/content/medications.csv\")\n",
        "precautions = pd.read_csv(\"/content/precautions_df.csv\")\n",
        "symptom_severity = pd.read_csv(\"/content/Symptom-severity.csv\")\n",
        "symptoms = pd.read_csv(\"/content/symptoms_df.csv\")\n",
        "training = pd.read_csv(\"/content/Training.csv\")\n",
        "workout = pd.read_csv(\"/content/workout_df.csv\")"
      ],
      "metadata": {
        "id": "kPymbmunDtSq"
      },
      "execution_count": 10,
      "outputs": []
    },
    {
      "cell_type": "markdown",
      "source": [
        "**# Initialize NLP tools**"
      ],
      "metadata": {
        "id": "5tTwUbxPiDjr"
      }
    },
    {
      "cell_type": "code",
      "source": [
        "\n",
        "ps = PorterStemmer()"
      ],
      "metadata": {
        "id": "_2bSbaNnDtVD"
      },
      "execution_count": 11,
      "outputs": []
    },
    {
      "cell_type": "code",
      "source": [
        "!pip install nltk\n",
        "import nltk\n",
        "nltk.download('punkt')\n",
        "nltk.download('punkt_tab')\n",
        "\n",
        "def preprocess_text(text):\n",
        "    if pd.isna(text):\n",
        "        return \"\"\n",
        "    words = word_tokenize(text.lower())\n",
        "    stemmed_words = [ps.stem(word) for word in words if word.isalnum()]\n",
        "    return stemmed_words\n",
        "\n",
        "description_nlp = description.select_dtypes(include=['object']).applymap(preprocess_text)"
      ],
      "metadata": {
        "id": "xmYcxNo5DtXq",
        "colab": {
          "base_uri": "https://localhost:8080/"
        },
        "outputId": "55bbb4bd-9c7a-4296-b322-35582a265ad3"
      },
      "execution_count": 13,
      "outputs": [
        {
          "output_type": "stream",
          "name": "stdout",
          "text": [
            "Requirement already satisfied: nltk in /usr/local/lib/python3.11/dist-packages (3.9.1)\n",
            "Requirement already satisfied: click in /usr/local/lib/python3.11/dist-packages (from nltk) (8.1.8)\n",
            "Requirement already satisfied: joblib in /usr/local/lib/python3.11/dist-packages (from nltk) (1.4.2)\n",
            "Requirement already satisfied: regex>=2021.8.3 in /usr/local/lib/python3.11/dist-packages (from nltk) (2024.11.6)\n",
            "Requirement already satisfied: tqdm in /usr/local/lib/python3.11/dist-packages (from nltk) (4.67.1)\n"
          ]
        },
        {
          "output_type": "stream",
          "name": "stderr",
          "text": [
            "[nltk_data] Downloading package punkt to /root/nltk_data...\n",
            "[nltk_data]   Package punkt is already up-to-date!\n",
            "[nltk_data] Downloading package punkt_tab to /root/nltk_data...\n",
            "[nltk_data]   Unzipping tokenizers/punkt_tab.zip.\n",
            "<ipython-input-13-7c78b0395204>:13: FutureWarning: DataFrame.applymap has been deprecated. Use DataFrame.map instead.\n",
            "  description_nlp = description.select_dtypes(include=['object']).applymap(preprocess_text)\n"
          ]
        }
      ]
    },
    {
      "cell_type": "code",
      "source": [
        "# Apply NLP preprocessing\n",
        "!pip install nltk\n",
        "import nltk\n",
        "nltk.download('punkt_tab')\n",
        "description_nlp = description.select_dtypes(include=['object']).applymap(preprocess_text)\n",
        "diets_nlp = diets.select_dtypes(include=['object']).applymap(preprocess_text)\n",
        "medications_nlp = medications.select_dtypes(include=['object']).applymap(preprocess_text)\n",
        "precautions_nlp = precautions.select_dtypes(include=['object']).applymap(preprocess_text)\n",
        "symptom_severity_nlp = symptom_severity.select_dtypes(include=['object']).applymap(preprocess_text)\n",
        "symptoms_nlp = symptoms.select_dtypes(include=['object']).applymap(preprocess_text)\n",
        "training_nlp = training.select_dtypes(include=['object']).applymap(preprocess_text)\n",
        "workout_nlp = workout.select_dtypes(include=['object']).applymap(preprocess_text)"
      ],
      "metadata": {
        "id": "2Njskcf0Dtah",
        "colab": {
          "base_uri": "https://localhost:8080/"
        },
        "outputId": "93dd6be9-512e-452f-b7a7-15abdb4242e2"
      },
      "execution_count": 14,
      "outputs": [
        {
          "output_type": "stream",
          "name": "stdout",
          "text": [
            "Requirement already satisfied: nltk in /usr/local/lib/python3.11/dist-packages (3.9.1)\n",
            "Requirement already satisfied: click in /usr/local/lib/python3.11/dist-packages (from nltk) (8.1.8)\n",
            "Requirement already satisfied: joblib in /usr/local/lib/python3.11/dist-packages (from nltk) (1.4.2)\n",
            "Requirement already satisfied: regex>=2021.8.3 in /usr/local/lib/python3.11/dist-packages (from nltk) (2024.11.6)\n",
            "Requirement already satisfied: tqdm in /usr/local/lib/python3.11/dist-packages (from nltk) (4.67.1)\n"
          ]
        },
        {
          "output_type": "stream",
          "name": "stderr",
          "text": [
            "[nltk_data] Downloading package punkt_tab to /root/nltk_data...\n",
            "[nltk_data]   Package punkt_tab is already up-to-date!\n",
            "<ipython-input-14-7c2dd5152398>:5: FutureWarning: DataFrame.applymap has been deprecated. Use DataFrame.map instead.\n",
            "  description_nlp = description.select_dtypes(include=['object']).applymap(preprocess_text)\n",
            "<ipython-input-14-7c2dd5152398>:6: FutureWarning: DataFrame.applymap has been deprecated. Use DataFrame.map instead.\n",
            "  diets_nlp = diets.select_dtypes(include=['object']).applymap(preprocess_text)\n",
            "<ipython-input-14-7c2dd5152398>:7: FutureWarning: DataFrame.applymap has been deprecated. Use DataFrame.map instead.\n",
            "  medications_nlp = medications.select_dtypes(include=['object']).applymap(preprocess_text)\n",
            "<ipython-input-14-7c2dd5152398>:8: FutureWarning: DataFrame.applymap has been deprecated. Use DataFrame.map instead.\n",
            "  precautions_nlp = precautions.select_dtypes(include=['object']).applymap(preprocess_text)\n",
            "<ipython-input-14-7c2dd5152398>:9: FutureWarning: DataFrame.applymap has been deprecated. Use DataFrame.map instead.\n",
            "  symptom_severity_nlp = symptom_severity.select_dtypes(include=['object']).applymap(preprocess_text)\n",
            "<ipython-input-14-7c2dd5152398>:10: FutureWarning: DataFrame.applymap has been deprecated. Use DataFrame.map instead.\n",
            "  symptoms_nlp = symptoms.select_dtypes(include=['object']).applymap(preprocess_text)\n",
            "<ipython-input-14-7c2dd5152398>:11: FutureWarning: DataFrame.applymap has been deprecated. Use DataFrame.map instead.\n",
            "  training_nlp = training.select_dtypes(include=['object']).applymap(preprocess_text)\n",
            "<ipython-input-14-7c2dd5152398>:12: FutureWarning: DataFrame.applymap has been deprecated. Use DataFrame.map instead.\n",
            "  workout_nlp = workout.select_dtypes(include=['object']).applymap(preprocess_text)\n"
          ]
        }
      ]
    },
    {
      "cell_type": "code",
      "source": [
        "print(\"Dataset: description\")\n",
        "print(\"Head:\\n\", description.head(), \"\\n\")\n"
      ],
      "metadata": {
        "id": "uL90VRi4Dtc3",
        "colab": {
          "base_uri": "https://localhost:8080/"
        },
        "outputId": "1deaeaa3-856c-4ef2-dead-2d008abe8dca"
      },
      "execution_count": 15,
      "outputs": [
        {
          "output_type": "stream",
          "name": "stdout",
          "text": [
            "Dataset: description\n",
            "Head:\n",
            "                Disease                                        Description\n",
            "0     Fungal infection  Fungal infection is a common skin condition ca...\n",
            "1              Allergy  Allergy is an immune system reaction to a subs...\n",
            "2                 GERD  GERD (Gastroesophageal Reflux Disease) is a di...\n",
            "3  Chronic cholestasis  Chronic cholestasis is a condition where bile ...\n",
            "4        Drug Reaction  Drug Reaction occurs when the body reacts adve... \n",
            "\n"
          ]
        }
      ]
    },
    {
      "cell_type": "code",
      "source": [
        "print(\"Info:\")\n",
        "print(description.info(), \"\\n\")"
      ],
      "metadata": {
        "colab": {
          "base_uri": "https://localhost:8080/"
        },
        "id": "xpjqvAA6t6Zq",
        "outputId": "124d6151-ff44-4124-cfb3-78e7d831acf4"
      },
      "execution_count": 16,
      "outputs": [
        {
          "output_type": "stream",
          "name": "stdout",
          "text": [
            "Info:\n",
            "<class 'pandas.core.frame.DataFrame'>\n",
            "RangeIndex: 41 entries, 0 to 40\n",
            "Data columns (total 2 columns):\n",
            " #   Column       Non-Null Count  Dtype \n",
            "---  ------       --------------  ----- \n",
            " 0   Disease      41 non-null     object\n",
            " 1   Description  41 non-null     object\n",
            "dtypes: object(2)\n",
            "memory usage: 788.0+ bytes\n",
            "None \n",
            "\n"
          ]
        }
      ]
    },
    {
      "cell_type": "code",
      "source": [
        "print(\"Describe:\\n\", description.describe(include='all'), \"\\n\")"
      ],
      "metadata": {
        "colab": {
          "base_uri": "https://localhost:8080/"
        },
        "id": "QiRB9n-wt6WF",
        "outputId": "6ba8c35f-7ee3-4f54-f85f-9ed9cce4db44"
      },
      "execution_count": null,
      "outputs": [
        {
          "output_type": "stream",
          "name": "stdout",
          "text": [
            "Describe:\n",
            "                  Disease                                        Description\n",
            "count                 41                                                 41\n",
            "unique                41                                                 41\n",
            "top     Fungal infection  Fungal infection is a common skin condition ca...\n",
            "freq                   1                                                  1 \n",
            "\n"
          ]
        }
      ]
    },
    {
      "cell_type": "code",
      "source": [
        "print(\"Dataset: diets\")\n",
        "print(\"Head:\\n\", diets.head(), \"\\n\")"
      ],
      "metadata": {
        "id": "vA2r5S55Dtng",
        "colab": {
          "base_uri": "https://localhost:8080/"
        },
        "outputId": "edae1bc5-a179-495d-e3f8-14717fc85ab3"
      },
      "execution_count": null,
      "outputs": [
        {
          "output_type": "stream",
          "name": "stdout",
          "text": [
            "Dataset: diets\n",
            "Head:\n",
            "                Disease                                               Diet\n",
            "0     Fungal infection  ['Antifungal Diet', 'Probiotics', 'Garlic', 'C...\n",
            "1              Allergy  ['Elimination Diet', 'Omega-3-rich foods', 'Vi...\n",
            "2                 GERD  ['Low-Acid Diet', 'Fiber-rich foods', 'Ginger'...\n",
            "3  Chronic cholestasis  ['Low-Fat Diet', 'High-Fiber Diet', 'Lean prot...\n",
            "4        Drug Reaction  ['Antihistamine Diet', 'Omega-3-rich foods', '... \n",
            "\n"
          ]
        }
      ]
    },
    {
      "cell_type": "code",
      "source": [
        "print(\"Info:\")\n",
        "print(diets.info(), \"\\n\")"
      ],
      "metadata": {
        "colab": {
          "base_uri": "https://localhost:8080/"
        },
        "id": "5cWTXFz2uKxM",
        "outputId": "a6c5badc-d318-4886-8859-a1e5ac1a8464"
      },
      "execution_count": null,
      "outputs": [
        {
          "output_type": "stream",
          "name": "stdout",
          "text": [
            "Info:\n",
            "<class 'pandas.core.frame.DataFrame'>\n",
            "RangeIndex: 41 entries, 0 to 40\n",
            "Data columns (total 2 columns):\n",
            " #   Column   Non-Null Count  Dtype \n",
            "---  ------   --------------  ----- \n",
            " 0   Disease  41 non-null     object\n",
            " 1   Diet     41 non-null     object\n",
            "dtypes: object(2)\n",
            "memory usage: 788.0+ bytes\n",
            "None \n",
            "\n"
          ]
        }
      ]
    },
    {
      "cell_type": "code",
      "source": [
        "print(\"Describe:\\n\", diets.describe(include='all'), \"\\n\")\n"
      ],
      "metadata": {
        "colab": {
          "base_uri": "https://localhost:8080/"
        },
        "id": "dCECE_gouKt0",
        "outputId": "366d2beb-9383-43e9-fd35-1fa32c6e407f"
      },
      "execution_count": null,
      "outputs": [
        {
          "output_type": "stream",
          "name": "stdout",
          "text": [
            "Describe:\n",
            "                  Disease                                               Diet\n",
            "count                 41                                                 41\n",
            "unique                41                                                 36\n",
            "top     Fungal infection  ['Arthritis Diet', 'Anti-Inflammatory Diet', '...\n",
            "freq                   1                                                  3 \n",
            "\n"
          ]
        }
      ]
    },
    {
      "cell_type": "code",
      "source": [
        "print(\"Dataset: medications\")\n",
        "print(\"Head:\\n\", medications.head(), \"\\n\")"
      ],
      "metadata": {
        "id": "dUoECengDtqJ",
        "colab": {
          "base_uri": "https://localhost:8080/"
        },
        "outputId": "ce0a6c08-08ed-4ccc-c30f-468e8199d17b"
      },
      "execution_count": null,
      "outputs": [
        {
          "output_type": "stream",
          "name": "stdout",
          "text": [
            "Dataset: medications\n",
            "Head:\n",
            "                Disease                                         Medication\n",
            "0     Fungal infection  ['Antifungal Cream', 'Fluconazole', 'Terbinafi...\n",
            "1              Allergy  ['Antihistamines', 'Decongestants', 'Epinephri...\n",
            "2                 GERD  ['Proton Pump Inhibitors (PPIs)', 'H2 Blockers...\n",
            "3  Chronic cholestasis  ['Ursodeoxycholic acid', 'Cholestyramine', 'Me...\n",
            "4        Drug Reaction  ['Antihistamines', 'Epinephrine', 'Corticoster... \n",
            "\n"
          ]
        }
      ]
    },
    {
      "cell_type": "code",
      "source": [
        "print(\"Info:\")\n",
        "print(medications.info(), \"\\n\")\n"
      ],
      "metadata": {
        "colab": {
          "base_uri": "https://localhost:8080/"
        },
        "id": "43VDjo3tumGA",
        "outputId": "38fd0c12-2d01-439e-cec0-1edceb0bfac5"
      },
      "execution_count": null,
      "outputs": [
        {
          "output_type": "stream",
          "name": "stdout",
          "text": [
            "Info:\n",
            "<class 'pandas.core.frame.DataFrame'>\n",
            "RangeIndex: 41 entries, 0 to 40\n",
            "Data columns (total 2 columns):\n",
            " #   Column      Non-Null Count  Dtype \n",
            "---  ------      --------------  ----- \n",
            " 0   Disease     41 non-null     object\n",
            " 1   Medication  41 non-null     object\n",
            "dtypes: object(2)\n",
            "memory usage: 788.0+ bytes\n",
            "None \n",
            "\n"
          ]
        }
      ]
    },
    {
      "cell_type": "code",
      "source": [
        "print(\"Describe:\\n\", medications.describe(include='all'), \"\\n\")"
      ],
      "metadata": {
        "colab": {
          "base_uri": "https://localhost:8080/"
        },
        "id": "m355CesYu_AL",
        "outputId": "e301834c-a134-43f1-b919-abeddd852d1e"
      },
      "execution_count": null,
      "outputs": [
        {
          "output_type": "stream",
          "name": "stdout",
          "text": [
            "Describe:\n",
            "                  Disease                                         Medication\n",
            "count                 41                                                 41\n",
            "unique                41                                                 38\n",
            "top     Fungal infection  ['Antiviral drugs', 'IV fluids', 'Blood transf...\n",
            "freq                   1                                                  3 \n",
            "\n"
          ]
        }
      ]
    },
    {
      "cell_type": "code",
      "source": [
        "print(\"Dataset: precautions\")\n",
        "print(\"Head:\\n\", precautions.head(), \"\\n\")"
      ],
      "metadata": {
        "colab": {
          "base_uri": "https://localhost:8080/"
        },
        "id": "jJOBiUTIvC5L",
        "outputId": "9bcd41ef-732f-470d-bd86-fb60fd1ab6a7"
      },
      "execution_count": null,
      "outputs": [
        {
          "output_type": "stream",
          "name": "stdout",
          "text": [
            "Dataset: precautions\n",
            "Head:\n",
            "    Unnamed: 0         Disease                      Precaution_1  \\\n",
            "0           0   Drug Reaction                   stop irritation   \n",
            "1           1         Malaria          Consult nearest hospital   \n",
            "2           2         Allergy                    apply calamine   \n",
            "3           3  Hypothyroidism                     reduce stress   \n",
            "4           4       Psoriasis  wash hands with warm soapy water   \n",
            "\n",
            "                   Precaution_2        Precaution_3  \\\n",
            "0      consult nearest hospital    stop taking drug   \n",
            "1               avoid oily food  avoid non veg food   \n",
            "2       cover area with bandage                 NaN   \n",
            "3                      exercise         eat healthy   \n",
            "4  stop bleeding using pressure      consult doctor   \n",
            "\n",
            "                  Precaution_4  \n",
            "0                    follow up  \n",
            "1           keep mosquitos out  \n",
            "2  use ice to compress itching  \n",
            "3             get proper sleep  \n",
            "4                   salt baths   \n",
            "\n"
          ]
        }
      ]
    },
    {
      "cell_type": "code",
      "source": [
        "print(\"Info:\")\n",
        "print(precautions.info(), \"\\n\")"
      ],
      "metadata": {
        "colab": {
          "base_uri": "https://localhost:8080/"
        },
        "id": "XQP5wAY7uuVL",
        "outputId": "80cbb007-7b14-4f4e-9f66-0436b2c9d9cd"
      },
      "execution_count": null,
      "outputs": [
        {
          "output_type": "stream",
          "name": "stdout",
          "text": [
            "Info:\n",
            "<class 'pandas.core.frame.DataFrame'>\n",
            "RangeIndex: 41 entries, 0 to 40\n",
            "Data columns (total 6 columns):\n",
            " #   Column        Non-Null Count  Dtype \n",
            "---  ------        --------------  ----- \n",
            " 0   Unnamed: 0    41 non-null     int64 \n",
            " 1   Disease       41 non-null     object\n",
            " 2   Precaution_1  41 non-null     object\n",
            " 3   Precaution_2  41 non-null     object\n",
            " 4   Precaution_3  40 non-null     object\n",
            " 5   Precaution_4  40 non-null     object\n",
            "dtypes: int64(1), object(5)\n",
            "memory usage: 2.1+ KB\n",
            "None \n",
            "\n"
          ]
        }
      ]
    },
    {
      "cell_type": "code",
      "source": [
        "print(\"Describe:\\n\", precautions.describe(include='all'), \"\\n\")"
      ],
      "metadata": {
        "colab": {
          "base_uri": "https://localhost:8080/"
        },
        "id": "v8XEL0CBuuRv",
        "outputId": "b98be0b9-d751-4b20-c929-5d64afba5833"
      },
      "execution_count": null,
      "outputs": [
        {
          "output_type": "stream",
          "name": "stdout",
          "text": [
            "Describe:\n",
            "         Unnamed: 0        Disease              Precaution_1 Precaution_2  \\\n",
            "count    41.000000             41                        41           41   \n",
            "unique         NaN             41                        32           34   \n",
            "top            NaN  Drug Reaction  Consult nearest hospital     exercise   \n",
            "freq           NaN              1                         3            3   \n",
            "mean     20.000000            NaN                       NaN          NaN   \n",
            "std      11.979149            NaN                       NaN          NaN   \n",
            "min       0.000000            NaN                       NaN          NaN   \n",
            "25%      10.000000            NaN                       NaN          NaN   \n",
            "50%      20.000000            NaN                       NaN          NaN   \n",
            "75%      30.000000            NaN                       NaN          NaN   \n",
            "max      40.000000            NaN                       NaN          NaN   \n",
            "\n",
            "          Precaution_3 Precaution_4  \n",
            "count               40           40  \n",
            "unique              30           24  \n",
            "top     consult doctor    follow up  \n",
            "freq                 6            6  \n",
            "mean               NaN          NaN  \n",
            "std                NaN          NaN  \n",
            "min                NaN          NaN  \n",
            "25%                NaN          NaN  \n",
            "50%                NaN          NaN  \n",
            "75%                NaN          NaN  \n",
            "max                NaN          NaN   \n",
            "\n"
          ]
        }
      ]
    },
    {
      "cell_type": "code",
      "source": [
        "print(\"Dataset: workout\")\n",
        "print(\"Head:\\n\", workout.head(), \"\\n\")\n",
        "\n"
      ],
      "metadata": {
        "colab": {
          "base_uri": "https://localhost:8080/"
        },
        "id": "vBd0ZbFXd98H",
        "outputId": "80ee127e-131a-4773-9d5b-6cb5c5d8b8fa"
      },
      "execution_count": null,
      "outputs": [
        {
          "output_type": "stream",
          "name": "stdout",
          "text": [
            "Dataset: workout\n",
            "Head:\n",
            "    Unnamed: 0.1  Unnamed: 0           disease                    workout\n",
            "0             0           0  Fungal infection         Avoid sugary foods\n",
            "1             1           1  Fungal infection         Consume probiotics\n",
            "2             2           2  Fungal infection  Increase intake of garlic\n",
            "3             3           3  Fungal infection     Include yogurt in diet\n",
            "4             4           4  Fungal infection      Limit processed foods \n",
            "\n"
          ]
        }
      ]
    },
    {
      "cell_type": "code",
      "source": [
        "print(\"Info:\")\n",
        "print(workout.info(), \"\\n\")"
      ],
      "metadata": {
        "colab": {
          "base_uri": "https://localhost:8080/"
        },
        "id": "FPNcyGk2wFEx",
        "outputId": "250d8649-95a9-44be-bb9b-dcdf50e63989"
      },
      "execution_count": null,
      "outputs": [
        {
          "output_type": "stream",
          "name": "stdout",
          "text": [
            "Info:\n",
            "<class 'pandas.core.frame.DataFrame'>\n",
            "RangeIndex: 410 entries, 0 to 409\n",
            "Data columns (total 4 columns):\n",
            " #   Column        Non-Null Count  Dtype \n",
            "---  ------        --------------  ----- \n",
            " 0   Unnamed: 0.1  410 non-null    int64 \n",
            " 1   Unnamed: 0    410 non-null    int64 \n",
            " 2   disease       410 non-null    object\n",
            " 3   workout       410 non-null    object\n",
            "dtypes: int64(2), object(2)\n",
            "memory usage: 12.9+ KB\n",
            "None \n",
            "\n"
          ]
        }
      ]
    },
    {
      "cell_type": "code",
      "source": [
        "print(\"Describe:\\n\", workout.describe(include='all'), \"\\n\")"
      ],
      "metadata": {
        "colab": {
          "base_uri": "https://localhost:8080/"
        },
        "id": "bLcFkn7-wFBL",
        "outputId": "3328ec37-9fe2-485b-d13b-029fd0f64e51"
      },
      "execution_count": null,
      "outputs": [
        {
          "output_type": "stream",
          "name": "stdout",
          "text": [
            "Describe:\n",
            "         Unnamed: 0.1  Unnamed: 0           disease        workout\n",
            "count     410.000000  410.000000               410            410\n",
            "unique           NaN         NaN                41            140\n",
            "top              NaN         NaN  Fungal infection  Stay hydrated\n",
            "freq             NaN         NaN                10             42\n",
            "mean      204.500000  204.500000               NaN            NaN\n",
            "std       118.501055  118.501055               NaN            NaN\n",
            "min         0.000000    0.000000               NaN            NaN\n",
            "25%       102.250000  102.250000               NaN            NaN\n",
            "50%       204.500000  204.500000               NaN            NaN\n",
            "75%       306.750000  306.750000               NaN            NaN\n",
            "max       409.000000  409.000000               NaN            NaN \n",
            "\n"
          ]
        }
      ]
    },
    {
      "cell_type": "code",
      "source": [
        "print(\"Dataset: training\")\n",
        "print(\"Head:\\n\", training.head(), \"\\n\")"
      ],
      "metadata": {
        "colab": {
          "base_uri": "https://localhost:8080/"
        },
        "id": "h5OoDraJd95z",
        "outputId": "2027ce6b-6a2f-40d2-b30b-64e74ef82d73"
      },
      "execution_count": null,
      "outputs": [
        {
          "output_type": "stream",
          "name": "stdout",
          "text": [
            "Dataset: training\n",
            "Head:\n",
            "    itching  skin_rash  nodal_skin_eruptions  continuous_sneezing  shivering  \\\n",
            "0        1          1                     1                    0          0   \n",
            "1        0          1                     1                    0          0   \n",
            "2        1          0                     1                    0          0   \n",
            "3        1          1                     0                    0          0   \n",
            "4        1          1                     1                    0          0   \n",
            "\n",
            "   chills  joint_pain  stomach_pain  acidity  ulcers_on_tongue  ...  \\\n",
            "0       0           0             0        0                 0  ...   \n",
            "1       0           0             0        0                 0  ...   \n",
            "2       0           0             0        0                 0  ...   \n",
            "3       0           0             0        0                 0  ...   \n",
            "4       0           0             0        0                 0  ...   \n",
            "\n",
            "   blackheads  scurring  skin_peeling  silver_like_dusting  \\\n",
            "0           0         0             0                    0   \n",
            "1           0         0             0                    0   \n",
            "2           0         0             0                    0   \n",
            "3           0         0             0                    0   \n",
            "4           0         0             0                    0   \n",
            "\n",
            "   small_dents_in_nails  inflammatory_nails  blister  red_sore_around_nose  \\\n",
            "0                     0                   0        0                     0   \n",
            "1                     0                   0        0                     0   \n",
            "2                     0                   0        0                     0   \n",
            "3                     0                   0        0                     0   \n",
            "4                     0                   0        0                     0   \n",
            "\n",
            "   yellow_crust_ooze         prognosis  \n",
            "0                  0  Fungal infection  \n",
            "1                  0  Fungal infection  \n",
            "2                  0  Fungal infection  \n",
            "3                  0  Fungal infection  \n",
            "4                  0  Fungal infection  \n",
            "\n",
            "[5 rows x 133 columns] \n",
            "\n"
          ]
        }
      ]
    },
    {
      "cell_type": "code",
      "source": [
        "print(\"Info:\")\n",
        "print(training.info(), \"\\n\")\n"
      ],
      "metadata": {
        "colab": {
          "base_uri": "https://localhost:8080/"
        },
        "id": "y5ipVEpowOfJ",
        "outputId": "4b0c847c-1fc9-4214-ceb5-ba7afad11ee2"
      },
      "execution_count": null,
      "outputs": [
        {
          "output_type": "stream",
          "name": "stdout",
          "text": [
            "Info:\n",
            "<class 'pandas.core.frame.DataFrame'>\n",
            "RangeIndex: 4920 entries, 0 to 4919\n",
            "Columns: 133 entries, itching to prognosis\n",
            "dtypes: int64(132), object(1)\n",
            "memory usage: 5.0+ MB\n",
            "None \n",
            "\n"
          ]
        }
      ]
    },
    {
      "cell_type": "code",
      "source": [
        "print(\"Describe:\\n\", training.describe(include='all'), \"\\n\")"
      ],
      "metadata": {
        "colab": {
          "base_uri": "https://localhost:8080/"
        },
        "id": "ufugXtTiwORQ",
        "outputId": "5a8a35cf-71a0-4ad2-b625-d7200e628e38"
      },
      "execution_count": null,
      "outputs": [
        {
          "output_type": "stream",
          "name": "stdout",
          "text": [
            "Describe:\n",
            "             itching    skin_rash  nodal_skin_eruptions  continuous_sneezing  \\\n",
            "count   4920.000000  4920.000000           4920.000000          4920.000000   \n",
            "unique          NaN          NaN                   NaN                  NaN   \n",
            "top             NaN          NaN                   NaN                  NaN   \n",
            "freq            NaN          NaN                   NaN                  NaN   \n",
            "mean       0.137805     0.159756              0.021951             0.045122   \n",
            "std        0.344730     0.366417              0.146539             0.207593   \n",
            "min        0.000000     0.000000              0.000000             0.000000   \n",
            "25%        0.000000     0.000000              0.000000             0.000000   \n",
            "50%        0.000000     0.000000              0.000000             0.000000   \n",
            "75%        0.000000     0.000000              0.000000             0.000000   \n",
            "max        1.000000     1.000000              1.000000             1.000000   \n",
            "\n",
            "          shivering       chills   joint_pain  stomach_pain      acidity  \\\n",
            "count   4920.000000  4920.000000  4920.000000   4920.000000  4920.000000   \n",
            "unique          NaN          NaN          NaN           NaN          NaN   \n",
            "top             NaN          NaN          NaN           NaN          NaN   \n",
            "freq            NaN          NaN          NaN           NaN          NaN   \n",
            "mean       0.021951     0.162195     0.139024      0.045122     0.045122   \n",
            "std        0.146539     0.368667     0.346007      0.207593     0.207593   \n",
            "min        0.000000     0.000000     0.000000      0.000000     0.000000   \n",
            "25%        0.000000     0.000000     0.000000      0.000000     0.000000   \n",
            "50%        0.000000     0.000000     0.000000      0.000000     0.000000   \n",
            "75%        0.000000     0.000000     0.000000      0.000000     0.000000   \n",
            "max        1.000000     1.000000     1.000000      1.000000     1.000000   \n",
            "\n",
            "        ulcers_on_tongue  ...   blackheads     scurring  skin_peeling  \\\n",
            "count        4920.000000  ...  4920.000000  4920.000000   4920.000000   \n",
            "unique               NaN  ...          NaN          NaN           NaN   \n",
            "top                  NaN  ...          NaN          NaN           NaN   \n",
            "freq                 NaN  ...          NaN          NaN           NaN   \n",
            "mean            0.021951  ...     0.021951     0.021951      0.023171   \n",
            "std             0.146539  ...     0.146539     0.146539      0.150461   \n",
            "min             0.000000  ...     0.000000     0.000000      0.000000   \n",
            "25%             0.000000  ...     0.000000     0.000000      0.000000   \n",
            "50%             0.000000  ...     0.000000     0.000000      0.000000   \n",
            "75%             0.000000  ...     0.000000     0.000000      0.000000   \n",
            "max             1.000000  ...     1.000000     1.000000      1.000000   \n",
            "\n",
            "        silver_like_dusting  small_dents_in_nails  inflammatory_nails  \\\n",
            "count           4920.000000           4920.000000         4920.000000   \n",
            "unique                  NaN                   NaN                 NaN   \n",
            "top                     NaN                   NaN                 NaN   \n",
            "freq                    NaN                   NaN                 NaN   \n",
            "mean               0.023171              0.023171            0.023171   \n",
            "std                0.150461              0.150461            0.150461   \n",
            "min                0.000000              0.000000            0.000000   \n",
            "25%                0.000000              0.000000            0.000000   \n",
            "50%                0.000000              0.000000            0.000000   \n",
            "75%                0.000000              0.000000            0.000000   \n",
            "max                1.000000              1.000000            1.000000   \n",
            "\n",
            "            blister  red_sore_around_nose  yellow_crust_ooze         prognosis  \n",
            "count   4920.000000           4920.000000        4920.000000              4920  \n",
            "unique          NaN                   NaN                NaN                41  \n",
            "top             NaN                   NaN                NaN  Fungal infection  \n",
            "freq            NaN                   NaN                NaN               120  \n",
            "mean       0.023171              0.023171           0.023171               NaN  \n",
            "std        0.150461              0.150461           0.150461               NaN  \n",
            "min        0.000000              0.000000           0.000000               NaN  \n",
            "25%        0.000000              0.000000           0.000000               NaN  \n",
            "50%        0.000000              0.000000           0.000000               NaN  \n",
            "75%        0.000000              0.000000           0.000000               NaN  \n",
            "max        1.000000              1.000000           1.000000               NaN  \n",
            "\n",
            "[11 rows x 133 columns] \n",
            "\n"
          ]
        }
      ]
    },
    {
      "cell_type": "code",
      "source": [
        "\n",
        "X = training.drop('prognosis', axis=1)\n",
        "y = training['prognosis']\n"
      ],
      "metadata": {
        "id": "826te06xo8AF"
      },
      "execution_count": 17,
      "outputs": []
    },
    {
      "cell_type": "code",
      "source": [
        "\n",
        "le = LabelEncoder()\n",
        "Y = le.fit_transform(y)\n",
        "\n",
        "X_train, X_test, y_train, y_test = train_test_split(X, Y, test_size=0.3, random_state=20)"
      ],
      "metadata": {
        "id": "Qi8CB08dncjF"
      },
      "execution_count": 18,
      "outputs": []
    },
    {
      "cell_type": "code",
      "source": [
        "# Train Models\n",
        "models = {\n",
        "    'SVC': SVC(kernel='linear'),\n",
        "    'RandomForest': RandomForestClassifier(n_estimators=100, random_state=42),\n",
        "    'GradientBoosting': GradientBoostingClassifier(n_estimators=100, random_state=42),\n",
        "    'KNeighbors': KNeighborsClassifier(n_neighbors=5),\n",
        "    'MultinomialNB': MultinomialNB()\n",
        "}"
      ],
      "metadata": {
        "id": "x9tFjlnmd93m"
      },
      "execution_count": 19,
      "outputs": []
    },
    {
      "cell_type": "code",
      "source": [
        "best_model = None\n",
        "best_accuracy = 0"
      ],
      "metadata": {
        "id": "_XSu5YjqAy0j"
      },
      "execution_count": 20,
      "outputs": []
    },
    {
      "cell_type": "code",
      "source": [
        "for model_name, model in models.items():\n",
        "    model.fit(X_train, y_train)\n",
        "    predictions = model.predict(X_test)\n",
        "    accuracy = accuracy_score(y_test, predictions)\n",
        "    print(f\"{model_name} Accuracy: {accuracy:.4f}\")\n",
        "\n",
        "    if accuracy > best_accuracy:\n",
        "        best_accuracy = accuracy\n",
        "        best_model = model"
      ],
      "metadata": {
        "colab": {
          "base_uri": "https://localhost:8080/"
        },
        "id": "pAzaseMcA1Rz",
        "outputId": "a7baf973-aac9-4bea-8707-9003ede9bfb6"
      },
      "execution_count": 21,
      "outputs": [
        {
          "output_type": "stream",
          "name": "stdout",
          "text": [
            "SVC Accuracy: 1.0000\n",
            "RandomForest Accuracy: 1.0000\n",
            "GradientBoosting Accuracy: 1.0000\n",
            "KNeighbors Accuracy: 1.0000\n",
            "MultinomialNB Accuracy: 1.0000\n"
          ]
        }
      ]
    },
    {
      "cell_type": "code",
      "source": [
        "\n",
        "svc = best_model"
      ],
      "metadata": {
        "id": "LeAldXwtA6pF"
      },
      "execution_count": 22,
      "outputs": []
    },
    {
      "cell_type": "code",
      "source": [
        "\n",
        "diseases_list = le.classes_"
      ],
      "metadata": {
        "id": "c5WgCxRCA9xH"
      },
      "execution_count": 23,
      "outputs": []
    },
    {
      "cell_type": "code",
      "source": [
        "\n",
        "symptoms_dict = {symptom: idx for idx, symptom in enumerate(X.columns)}"
      ],
      "metadata": {
        "id": "swbt6IohA__D"
      },
      "execution_count": 24,
      "outputs": []
    },
    {
      "cell_type": "code",
      "source": [
        "def get_predicted_value(patient_symptoms):\n",
        "    input_vector = np.zeros(len(X.columns), dtype=int)\n",
        "    matched_symptoms = []\n",
        "\n",
        "    for symptom in patient_symptoms:\n",
        "        if symptom in symptoms_dict:\n",
        "            input_vector[symptoms_dict[symptom]] = 1\n",
        "            matched_symptoms.append(symptom)\n",
        "\n",
        "    if not matched_symptoms:\n",
        "        return \"No matching symptoms found. Please check your input.\", []\n",
        "\n",
        "    predicted_disease = diseases_list[svc.predict([input_vector])[0]]\n",
        "    return predicted_disease, matched_symptoms"
      ],
      "metadata": {
        "id": "ZD1tzfCqr_ys"
      },
      "execution_count": 25,
      "outputs": []
    },
    {
      "cell_type": "code",
      "source": [
        "def helper(dis):\n",
        "    desc = description.loc[description['Disease'] == dis, 'Description'].values\n",
        "    desc = desc[0] if len(desc) > 0 else \"No description available.\"\n",
        "\n",
        "    pre = precautions.loc[precautions['Disease'] == dis, ['Precaution_1', 'Precaution_2', 'Precaution_3', 'Precaution_4']].dropna().values.flatten()\n",
        "    med = medications.loc[medications['Disease'] == dis, 'Medication'].dropna().values.flatten()\n",
        "    die = diets.loc[diets['Disease'] == dis, 'Diet'].dropna().values.flatten()\n",
        "    wrkout = workout.loc[workout['disease'] == dis, 'workout'].dropna().values.flatten()\n",
        "\n",
        "    return desc, pre.tolist(), med.tolist(), die.tolist(), wrkout.tolist()"
      ],
      "metadata": {
        "id": "Q8NYoa7BbyxU"
      },
      "execution_count": 26,
      "outputs": []
    },
    {
      "cell_type": "code",
      "source": [
        "\n",
        "symptoms_input = input(\"Enter your symptoms (comma-separated): \")\n",
        "user_symptoms = [s.strip() for s in symptoms_input.split(',')]\n",
        "\n",
        "predicted_disease, matched_symptoms = get_predicted_value(user_symptoms)\n",
        "\n",
        "if isinstance(predicted_disease, str) and \"No matching\" in predicted_disease:\n",
        "    print(predicted_disease)\n",
        "else:\n",
        "    desc, pre, med, die, wrkout = helper(predicted_disease)\n",
        "\n",
        "    print(f\"\\nMatched Symptoms: {', '.join(matched_symptoms)}\")\n",
        "    print(f\"\\nPredicted Disease: {predicted_disease}\")\n",
        "    print(f\"\\nDescription: {desc}\")\n",
        "\n",
        "    print(\"\\nPrecautions:\")\n",
        "    for i, p in enumerate(pre, start=1):\n",
        "        print(f\"{i}: {p}\")\n",
        "\n",
        "    print(\"\\nMedications:\")\n",
        "    for i, m in enumerate(med, start=1):\n",
        "        print(f\"{i}: {m}\")\n",
        "\n",
        "    print(\"\\nWorkout Suggestions:\")\n",
        "    for i, w in enumerate(wrkout, start=1):\n",
        "        print(f\"{i}: {w}\")\n",
        "\n",
        "    print(\"\\nDiet Suggestions:\")\n",
        "    for i, d in enumerate(die, start=1):\n",
        "        print(f\"{i}: {d}\")"
      ],
      "metadata": {
        "id": "Vc_v4B1Gb3wj",
        "colab": {
          "base_uri": "https://localhost:8080/"
        },
        "outputId": "7abe7ca8-2959-4fdc-9e3b-0cf6e18bfffe"
      },
      "execution_count": 28,
      "outputs": [
        {
          "output_type": "stream",
          "name": "stdout",
          "text": [
            "Enter your symptoms (comma-separated): itching, skin_rash, nodal_skin_eruptions \n",
            "\n",
            "Matched Symptoms: itching, skin_rash, nodal_skin_eruptions\n",
            "\n",
            "Predicted Disease: Fungal infection\n",
            "\n",
            "Description: Fungal infection is a common skin condition caused by fungi.\n",
            "\n",
            "Precautions:\n",
            "1: bath twice\n",
            "2: use detol or neem in bathing water\n",
            "3: keep infected area dry\n",
            "4: use clean cloths\n",
            "\n",
            "Medications:\n",
            "1: ['Antifungal Cream', 'Fluconazole', 'Terbinafine', 'Clotrimazole', 'Ketoconazole']\n",
            "\n",
            "Workout Suggestions:\n",
            "1: Avoid sugary foods\n",
            "2: Consume probiotics\n",
            "3: Increase intake of garlic\n",
            "4: Include yogurt in diet\n",
            "5: Limit processed foods\n",
            "6: Stay hydrated\n",
            "7: Consume green tea\n",
            "8: Eat foods rich in zinc\n",
            "9: Include turmeric in diet\n",
            "10: Eat fruits and vegetables\n",
            "\n",
            "Diet Suggestions:\n",
            "1: ['Antifungal Diet', 'Probiotics', 'Garlic', 'Coconut oil', 'Turmeric']\n"
          ]
        },
        {
          "output_type": "stream",
          "name": "stderr",
          "text": [
            "/usr/local/lib/python3.11/dist-packages/sklearn/utils/validation.py:2739: UserWarning: X does not have valid feature names, but SVC was fitted with feature names\n",
            "  warnings.warn(\n"
          ]
        }
      ]
    },
    {
      "cell_type": "code",
      "source": [
        "\n",
        "\n",
        "symptoms_input = input(\"Enter your symptoms (comma-separated): \")\n",
        "user_symptoms = [s.strip() for s in symptoms_input.split(',')]\n",
        "\n",
        "predicted_disease, matched_symptoms = get_predicted_value(user_symptoms)\n",
        "\n",
        "if isinstance(predicted_disease, str) and \"No matching\" in predicted_disease:\n",
        "    print(predicted_disease)\n",
        "else:\n",
        "    desc, pre, med, die, wrkout = helper(predicted_disease)\n",
        "\n",
        "\n",
        "    print(f\"\\nMatched Symptoms: {', '.join(matched_symptoms)}\")\n",
        "    print(f\"\\nPredicted Disease: {predicted_disease}\")\n",
        "    print(f\"\\nDescription: {desc}\")\n",
        "\n",
        "    print(\"\\nPrecautions:\")\n",
        "    for i, p in enumerate(pre, start=1):\n",
        "        print(f\"{i}: {p}\")\n",
        "\n",
        "    print(\"\\nMedications:\")\n",
        "    for i, m in enumerate(med, start=1):\n",
        "        print(f\"{i}: {m}\")\n",
        "\n",
        "    print(\"\\nWorkout Suggestions:\")\n",
        "    for i, w in enumerate(wrkout, start=1):\n",
        "        print(f\"{i}: {w}\")\n",
        "\n",
        "    print(\"\\nDiet Suggestions:\")\n",
        "    for i, d in enumerate(die, start=1):\n",
        "        print(f\"{i}: {d}\")"
      ],
      "metadata": {
        "id": "WuTVlUJMdjdf",
        "colab": {
          "base_uri": "https://localhost:8080/"
        },
        "outputId": "f51cc4ae-5f36-4ecd-9fc6-e4ae05ab93b3"
      },
      "execution_count": 29,
      "outputs": [
        {
          "output_type": "stream",
          "name": "stdout",
          "text": [
            "Enter your symptoms (comma-separated): sweating, palpitations, anxiety\n",
            "\n",
            "Matched Symptoms: sweating, palpitations, anxiety\n",
            "\n",
            "Predicted Disease: Heart attack\n",
            "\n",
            "Description: Heart attack is a sudden and severe reduction in blood flow to the heart muscle.\n",
            "\n",
            "Precautions:\n",
            "\n",
            "Medications:\n",
            "1: ['Compression stockings', 'Exercise', 'Elevating the legs', 'Sclerotherapy', 'Laser treatments']\n",
            "\n",
            "Workout Suggestions:\n",
            "1: Follow a heart-healthy diet\n",
            "2: Limit sodium intake\n",
            "3: Include fiber-rich foods\n",
            "4: Consume healthy fats\n",
            "5: Include lean proteins\n",
            "6: Limit sugary foods and beverages\n",
            "7: Stay hydrated\n",
            "8: Consult a healthcare professional\n",
            "9: Follow medical recommendations\n",
            "10: Engage in regular exercise\n",
            "\n",
            "Diet Suggestions:\n",
            "1: ['Heart-Healthy Diet', 'Low-sodium foods', 'Fruits and vegetables', 'Whole grains', 'Lean proteins']\n"
          ]
        },
        {
          "output_type": "stream",
          "name": "stderr",
          "text": [
            "/usr/local/lib/python3.11/dist-packages/sklearn/utils/validation.py:2739: UserWarning: X does not have valid feature names, but SVC was fitted with feature names\n",
            "  warnings.warn(\n"
          ]
        }
      ]
    },
    {
      "cell_type": "code",
      "source": [
        "\n",
        "symptoms_input = input(\"Enter your symptoms (comma-separated): \")\n",
        "user_symptoms = [s.strip() for s in symptoms_input.split(',')]\n",
        "\n",
        "predicted_disease, matched_symptoms = get_predicted_value(user_symptoms)\n",
        "\n",
        "if isinstance(predicted_disease, str) and \"No matching\" in predicted_disease:\n",
        "    print(predicted_disease)\n",
        "else:\n",
        "    desc, pre, med, die, wrkout = helper(predicted_disease)\n",
        "\n",
        "    print(f\"\\nMatched Symptoms: {', '.join(matched_symptoms)}\")\n",
        "    print(f\"\\nPredicted Disease: {predicted_disease}\")\n",
        "    print(f\"\\nDescription: {desc}\")\n",
        "\n",
        "    print(\"\\nPrecautions:\")\n",
        "    for i, p in enumerate(pre, start=1):\n",
        "        print(f\"{i}: {p}\")\n",
        "\n",
        "    print(\"\\nMedications:\")\n",
        "    for i, m in enumerate(med, start=1):\n",
        "        print(f\"{i}: {m}\")\n",
        "\n",
        "    print(\"\\nWorkout Suggestions:\")\n",
        "    for i, w in enumerate(wrkout, start=1):\n",
        "        print(f\"{i}: {w}\")\n",
        "\n",
        "    print(\"\\nDiet Suggestions:\")\n",
        "    for i, d in enumerate(die, start=1):\n",
        "        print(f\"{i}: {d}\")"
      ],
      "metadata": {
        "colab": {
          "base_uri": "https://localhost:8080/"
        },
        "id": "iJ_rK3xNBzmj",
        "outputId": "bc4709c7-daef-4f5c-c214-a8a131d9e4ea"
      },
      "execution_count": null,
      "outputs": [
        {
          "output_type": "stream",
          "name": "stdout",
          "text": [
            "Enter your symptoms (comma-separated): continuous_sneezing\n",
            "\n",
            "Matched Symptoms: continuous_sneezing\n",
            "\n",
            "Predicted Disease: Allergy\n",
            "\n",
            "Description: Allergy is an immune system reaction to a substance in the environment.\n",
            "\n",
            "Precautions:\n",
            "\n",
            "Medications:\n",
            "1: ['Antihistamines', 'Decongestants', 'Epinephrine', 'Corticosteroids', 'Immunotherapy']\n",
            "\n",
            "Workout Suggestions:\n",
            "1: Avoid allergenic foods\n",
            "2: Consume anti-inflammatory foods\n",
            "3: Include omega-3 fatty acids\n",
            "4: Stay hydrated\n",
            "5: Eat foods rich in vitamin C\n",
            "6: Include quercetin-rich foods\n",
            "7: Consume local honey\n",
            "8: Limit processed foods\n",
            "9: Include ginger in diet\n",
            "10: Avoid artificial additives\n",
            "\n",
            "Diet Suggestions:\n",
            "1: ['Elimination Diet', 'Omega-3-rich foods', 'Vitamin C-rich foods', 'Quercetin-rich foods', 'Probiotics']\n"
          ]
        },
        {
          "output_type": "stream",
          "name": "stderr",
          "text": [
            "/usr/local/lib/python3.11/dist-packages/sklearn/utils/validation.py:2739: UserWarning: X does not have valid feature names, but SVC was fitted with feature names\n",
            "  warnings.warn(\n"
          ]
        }
      ]
    },
    {
      "cell_type": "code",
      "source": [
        "import pickle\n",
        "\n",
        "\n",
        "with open('disease_prediction_model.pkl', 'wb') as model_file:\n",
        "    pickle.dump(svc, model_file)\n",
        "\n",
        "with open('label_encoder.pkl', 'wb') as le_file:\n",
        "    pickle.dump(le, le_file)\n"
      ],
      "metadata": {
        "id": "Y0CyDtNrBzjC"
      },
      "execution_count": null,
      "outputs": []
    },
    {
      "cell_type": "code",
      "source": [
        "\n",
        "with open('disease_prediction_model.pkl', 'rb') as model_file:\n",
        "    svc = pickle.load(model_file)\n",
        "\n",
        "with open('label_encoder.pkl', 'rb') as le_file:\n",
        "    le = pickle.load(le_file)\n",
        "diseases_list = le.classes_\n",
        "\n",
        "print(\"Model and Label Encoder Loaded Successfully!\")\n"
      ],
      "metadata": {
        "colab": {
          "base_uri": "https://localhost:8080/"
        },
        "id": "-Cwa_JrlBzQn",
        "outputId": "2e553f74-b4b5-44b6-ec36-dd908e1c6bf2"
      },
      "execution_count": null,
      "outputs": [
        {
          "output_type": "stream",
          "name": "stdout",
          "text": [
            "Model and Label Encoder Loaded Successfully!\n"
          ]
        }
      ]
    }
  ]
}